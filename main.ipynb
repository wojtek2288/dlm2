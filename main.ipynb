{
 "cells": [
  {
   "cell_type": "code",
   "execution_count": 1,
   "metadata": {},
   "outputs": [],
   "source": [
    "# pip install librosa"
   ]
  },
  {
   "cell_type": "code",
   "execution_count": 2,
   "metadata": {},
   "outputs": [],
   "source": [
    "# pip install soundfile"
   ]
  },
  {
   "cell_type": "code",
   "execution_count": 3,
   "metadata": {},
   "outputs": [],
   "source": [
    "# pip install accelerate -U"
   ]
  },
  {
   "cell_type": "code",
   "execution_count": 4,
   "metadata": {},
   "outputs": [],
   "source": [
    "# pip install wandb"
   ]
  },
  {
   "cell_type": "code",
   "execution_count": 5,
   "metadata": {},
   "outputs": [],
   "source": [
    "# wandb login"
   ]
  },
  {
   "cell_type": "code",
   "execution_count": 6,
   "metadata": {},
   "outputs": [
    {
     "name": "stderr",
     "output_type": "stream",
     "text": [
      "/usr/lib/python3/dist-packages/scipy/__init__.py:146: UserWarning: A NumPy version >=1.17.3 and <1.25.0 is required for this version of SciPy (detected version 1.26.4\n",
      "  warnings.warn(f\"A NumPy version >={np_minversion} and <{np_maxversion}\"\n"
     ]
    }
   ],
   "source": [
    "from datasets import load_dataset\n",
    "from transformers import AutoFeatureExtractor\n",
    "import evaluate\n",
    "import numpy as np\n",
    "from transformers import AutoModelForAudioClassification, TrainingArguments, Trainer\n",
    "from enum import Enum\n",
    "import random\n",
    "import torch\n",
    "from pydub import AudioSegment\n",
    "import os"
   ]
  },
  {
   "cell_type": "code",
   "execution_count": 7,
   "metadata": {},
   "outputs": [],
   "source": [
    "class Model(Enum):\n",
    "    FacebookWav2Vec2 = 1\n",
    "    HUBERT = 2"
   ]
  },
  {
   "cell_type": "code",
   "execution_count": 8,
   "metadata": {},
   "outputs": [],
   "source": [
    "SEED = 1\n",
    "SPLIT_SILENCE = False\n",
    "DATASET_PATH = 'train/audio'\n",
    "LEARNING_RATE = 1e-4\n",
    "PER_DEVICE_TRAIN_BATCH_SIZE = 32\n",
    "GRADIENT_ACCUMULATION_STEPS = 4\n",
    "PER_DEVICE_EVAL_BATCH_SIZE = 32\n",
    "NUM_TRAIN_EPOCHS = 5\n",
    "WARMUP_RATIO = 0.1\n",
    "LOGGING_STEPS = 10\n",
    "MODEL = Model.HUBERT\n",
    "MODEL_NAMES = { Model.FacebookWav2Vec2: \"Wav2Vec-LR\", Model.HUBERT: \"HUBERT-LR\" }\n",
    "MODEL_NAME = MODEL_NAMES[MODEL]"
   ]
  },
  {
   "cell_type": "code",
   "execution_count": 9,
   "metadata": {},
   "outputs": [
    {
     "data": {
      "text/plain": [
       "<torch._C.Generator at 0x7d4e367a43f0>"
      ]
     },
     "execution_count": 9,
     "metadata": {},
     "output_type": "execute_result"
    }
   ],
   "source": [
    "random.seed(SEED)\n",
    "torch.manual_seed(SEED)"
   ]
  },
  {
   "cell_type": "code",
   "execution_count": 10,
   "metadata": {},
   "outputs": [],
   "source": [
    "k = 0\n",
    "\n",
    "def split_audio(file_path, output_folder, k):\n",
    "    audio = AudioSegment.from_file(file_path)\n",
    "    length_ms = len(audio)\n",
    "\n",
    "    for i in range(0, length_ms, 1000):\n",
    "        end = i + 1000\n",
    "\n",
    "        if end > length_ms:\n",
    "            end = length_ms\n",
    "\n",
    "        chunk = audio[i:end]\n",
    "        chunk_name = f\"{output_folder}/chunk_{k:03d}.wav\"\n",
    "        chunk.export(chunk_name, format=\"wav\")\n",
    "\n",
    "        k += 1\n",
    "\n",
    "    print(f\"Audio split into {length_ms//1000} chunks.\")\n",
    "\n",
    "    return k\n",
    "\n",
    "if SPLIT_SILENCE:\n",
    "    for file in os.listdir(f\"{DATASET_PATH}/_background_noise_/\"):\n",
    "        if file.endswith(\".wav\"):\n",
    "            k = split_audio(f\"{DATASET_PATH}/_background_noise_/{file}\", f\"{DATASET_PATH}/silence\", k)"
   ]
  },
  {
   "cell_type": "code",
   "execution_count": 11,
   "metadata": {},
   "outputs": [
    {
     "data": {
      "application/vnd.jupyter.widget-view+json": {
       "model_id": "8d046f3349f94a62be9d1cf5d70728e6",
       "version_major": 2,
       "version_minor": 0
      },
      "text/plain": [
       "Resolving data files:   0%|          | 0/65123 [00:00<?, ?it/s]"
      ]
     },
     "metadata": {},
     "output_type": "display_data"
    }
   ],
   "source": [
    "data = load_dataset(DATASET_PATH, split='train')\n",
    "data = data.train_test_split(test_size=0.2, seed=SEED)"
   ]
  },
  {
   "cell_type": "code",
   "execution_count": 12,
   "metadata": {},
   "outputs": [
    {
     "data": {
      "text/plain": [
       "{'audio': {'path': '/home/wojtek/Studia/dlm2/train/audio/marvin/3a789a0d_nohash_1.wav',\n",
       "  'array': array([-0.02600098, -0.02432251, -0.02545166, ..., -0.02835083,\n",
       "         -0.0284729 , -0.02923584]),\n",
       "  'sampling_rate': 16000},\n",
       " 'label': 12}"
      ]
     },
     "execution_count": 12,
     "metadata": {},
     "output_type": "execute_result"
    }
   ],
   "source": [
    "data[\"train\"][0]"
   ]
  },
  {
   "cell_type": "code",
   "execution_count": 13,
   "metadata": {},
   "outputs": [
    {
     "data": {
      "text/plain": [
       "{'audio': {'path': '/home/wojtek/Studia/dlm2/train/audio/yes/ec74a8a5_nohash_1.wav',\n",
       "  'array': array([-9.15527344e-05, -9.15527344e-05, -6.10351562e-05, ...,\n",
       "         -5.79833984e-04, -2.44140625e-04, -3.66210938e-04]),\n",
       "  'sampling_rate': 16000},\n",
       " 'label': 29}"
      ]
     },
     "execution_count": 13,
     "metadata": {},
     "output_type": "execute_result"
    }
   ],
   "source": [
    "data['test'][0]"
   ]
  },
  {
   "cell_type": "code",
   "execution_count": 14,
   "metadata": {},
   "outputs": [
    {
     "data": {
      "text/plain": [
       "['bed',\n",
       " 'bird',\n",
       " 'cat',\n",
       " 'dog',\n",
       " 'down',\n",
       " 'eight',\n",
       " 'five',\n",
       " 'four',\n",
       " 'go',\n",
       " 'happy',\n",
       " 'house',\n",
       " 'left',\n",
       " 'marvin',\n",
       " 'nine',\n",
       " 'no',\n",
       " 'off',\n",
       " 'on',\n",
       " 'one',\n",
       " 'right',\n",
       " 'seven',\n",
       " 'sheila',\n",
       " 'silence',\n",
       " 'six',\n",
       " 'stop',\n",
       " 'three',\n",
       " 'tree',\n",
       " 'two',\n",
       " 'up',\n",
       " 'wow',\n",
       " 'yes',\n",
       " 'zero']"
      ]
     },
     "execution_count": 14,
     "metadata": {},
     "output_type": "execute_result"
    }
   ],
   "source": [
    "labels = data[\"train\"].features[\"label\"].names\n",
    "labels"
   ]
  },
  {
   "cell_type": "code",
   "execution_count": 15,
   "metadata": {},
   "outputs": [
    {
     "data": {
      "text/plain": [
       "'cat'"
      ]
     },
     "execution_count": 15,
     "metadata": {},
     "output_type": "execute_result"
    }
   ],
   "source": [
    "label2id, id2label = dict(), dict()\n",
    "\n",
    "for i, label in enumerate(labels):\n",
    "    label2id[label] = str(i)\n",
    "    id2label[str(i)] = label\n",
    "\n",
    "id2label[str(2)]"
   ]
  },
  {
   "cell_type": "code",
   "execution_count": 16,
   "metadata": {},
   "outputs": [
    {
     "name": "stderr",
     "output_type": "stream",
     "text": [
      "/home/wojtek/.local/lib/python3.10/site-packages/huggingface_hub/file_download.py:1132: FutureWarning: `resume_download` is deprecated and will be removed in version 1.0.0. Downloads always resume when possible. If you want to force a new download, use `force_download=True`.\n",
      "  warnings.warn(\n",
      "/home/wojtek/.local/lib/python3.10/site-packages/transformers/configuration_utils.py:363: UserWarning: Passing `gradient_checkpointing` to a config initialization is deprecated and will be removed in v5 Transformers. Using `model.gradient_checkpointing_enable()` instead, or if you are using the `Trainer` API, pass `gradient_checkpointing=True` in your `TrainingArguments`.\n",
      "  warnings.warn(\n"
     ]
    }
   ],
   "source": [
    "model_name = \"facebook/wav2vec2-base\" if MODEL == Model.FacebookWav2Vec2 else \"facebook/hubert-base-ls960\"\n",
    "feature_extractor = AutoFeatureExtractor.from_pretrained(model_name)\n",
    "\n",
    "def preprocess_function(examples):\n",
    "    audio_arrays = [x[\"array\"] for x in examples[\"audio\"]]\n",
    "    inputs = feature_extractor(\n",
    "        audio_arrays, sampling_rate=feature_extractor.sampling_rate, max_length=16000, truncation=True\n",
    "    )\n",
    "    return inputs\n",
    "\n",
    "data = data.map(preprocess_function, remove_columns=\"audio\", batched=True)"
   ]
  },
  {
   "cell_type": "code",
   "execution_count": 17,
   "metadata": {},
   "outputs": [],
   "source": [
    "accuracy = evaluate.load(\"accuracy\")\n",
    "\n",
    "def compute_metrics(eval_pred):\n",
    "    predictions = np.argmax(eval_pred.predictions, axis=1)\n",
    "    return accuracy.compute(predictions=predictions, references=eval_pred.label_ids)"
   ]
  },
  {
   "cell_type": "code",
   "execution_count": 18,
   "metadata": {},
   "outputs": [
    {
     "name": "stderr",
     "output_type": "stream",
     "text": [
      "Some weights of Wav2Vec2ForSequenceClassification were not initialized from the model checkpoint at facebook/wav2vec2-base and are newly initialized: ['classifier.bias', 'classifier.weight', 'projector.bias', 'projector.weight', 'wav2vec2.encoder.pos_conv_embed.conv.parametrizations.weight.original0', 'wav2vec2.encoder.pos_conv_embed.conv.parametrizations.weight.original1']\n",
      "You should probably TRAIN this model on a down-stream task to be able to use it for predictions and inference.\n",
      "Failed to detect the name of this notebook, you can set it manually with the WANDB_NOTEBOOK_NAME environment variable to enable code saving.\n",
      "\u001b[34m\u001b[1mwandb\u001b[0m: Currently logged in as: \u001b[33mwojtek2288\u001b[0m (\u001b[33mwojtek2288-org\u001b[0m). Use \u001b[1m`wandb login --relogin`\u001b[0m to force relogin\n"
     ]
    },
    {
     "data": {
      "text/html": [
       "Tracking run with wandb version 0.16.6"
      ],
      "text/plain": [
       "<IPython.core.display.HTML object>"
      ]
     },
     "metadata": {},
     "output_type": "display_data"
    },
    {
     "data": {
      "text/html": [
       "Run data is saved locally in <code>/home/wojtek/Studia/dlm2/wandb/run-20240505_202020-5anwezsv</code>"
      ],
      "text/plain": [
       "<IPython.core.display.HTML object>"
      ]
     },
     "metadata": {},
     "output_type": "display_data"
    },
    {
     "data": {
      "text/html": [
       "Syncing run <strong><a href='https://wandb.ai/wojtek2288-org/huggingface/runs/5anwezsv' target=\"_blank\">hokey-tauntaun-15</a></strong> to <a href='https://wandb.ai/wojtek2288-org/huggingface' target=\"_blank\">Weights & Biases</a> (<a href='https://wandb.me/run' target=\"_blank\">docs</a>)<br/>"
      ],
      "text/plain": [
       "<IPython.core.display.HTML object>"
      ]
     },
     "metadata": {},
     "output_type": "display_data"
    },
    {
     "data": {
      "text/html": [
       " View project at <a href='https://wandb.ai/wojtek2288-org/huggingface' target=\"_blank\">https://wandb.ai/wojtek2288-org/huggingface</a>"
      ],
      "text/plain": [
       "<IPython.core.display.HTML object>"
      ]
     },
     "metadata": {},
     "output_type": "display_data"
    },
    {
     "data": {
      "text/html": [
       " View run at <a href='https://wandb.ai/wojtek2288-org/huggingface/runs/5anwezsv' target=\"_blank\">https://wandb.ai/wojtek2288-org/huggingface/runs/5anwezsv</a>"
      ],
      "text/plain": [
       "<IPython.core.display.HTML object>"
      ]
     },
     "metadata": {},
     "output_type": "display_data"
    },
    {
     "data": {
      "application/vnd.jupyter.widget-view+json": {
       "model_id": "4ddeda7df0df478f8a7f27caedf9ade2",
       "version_major": 2,
       "version_minor": 0
      },
      "text/plain": [
       "  0%|          | 0/2035 [00:00<?, ?it/s]"
      ]
     },
     "metadata": {},
     "output_type": "display_data"
    },
    {
     "name": "stderr",
     "output_type": "stream",
     "text": [
      "/home/wojtek/.local/lib/python3.10/site-packages/torch/nn/modules/conv.py:306: UserWarning: Plan failed with a cudnnException: CUDNN_BACKEND_EXECUTION_PLAN_DESCRIPTOR: cudnnFinalize Descriptor Failed cudnn_status: CUDNN_STATUS_NOT_SUPPORTED (Triggered internally at ../aten/src/ATen/native/cudnn/Conv_v8.cpp:919.)\n",
      "  return F.conv1d(input, weight, bias, self.stride,\n",
      "/home/wojtek/.local/lib/python3.10/site-packages/torch/autograd/graph.py:744: UserWarning: Plan failed with a cudnnException: CUDNN_BACKEND_EXECUTION_PLAN_DESCRIPTOR: cudnnFinalize Descriptor Failed cudnn_status: CUDNN_STATUS_NOT_SUPPORTED (Triggered internally at ../aten/src/ATen/native/cudnn/Conv_v8.cpp:919.)\n",
      "  return Variable._execution_engine.run_backward(  # Calls into the C++ engine to run the backward pass\n"
     ]
    },
    {
     "name": "stdout",
     "output_type": "stream",
     "text": [
      "{'loss': 3.4345, 'grad_norm': 0.9672372937202454, 'learning_rate': 4.901960784313726e-06, 'epoch': 0.02}\n",
      "{'loss': 3.4269, 'grad_norm': 0.7214069962501526, 'learning_rate': 9.803921568627451e-06, 'epoch': 0.05}\n",
      "{'loss': 3.4193, 'grad_norm': 0.6514737606048584, 'learning_rate': 1.4705882352941177e-05, 'epoch': 0.07}\n",
      "{'loss': 3.4044, 'grad_norm': 0.6940809488296509, 'learning_rate': 1.9607843137254903e-05, 'epoch': 0.1}\n",
      "{'loss': 3.3728, 'grad_norm': 1.5090889930725098, 'learning_rate': 2.4509803921568626e-05, 'epoch': 0.12}\n",
      "{'loss': 3.3045, 'grad_norm': 1.686798334121704, 'learning_rate': 2.9411764705882354e-05, 'epoch': 0.15}\n",
      "{'loss': 3.1435, 'grad_norm': 7.129352569580078, 'learning_rate': 3.431372549019608e-05, 'epoch': 0.17}\n",
      "{'loss': 2.9468, 'grad_norm': 7.47405481338501, 'learning_rate': 3.9215686274509805e-05, 'epoch': 0.2}\n",
      "{'loss': 2.7463, 'grad_norm': 4.668152809143066, 'learning_rate': 4.411764705882353e-05, 'epoch': 0.22}\n",
      "{'loss': 2.5484, 'grad_norm': 25.23488998413086, 'learning_rate': 4.901960784313725e-05, 'epoch': 0.25}\n",
      "{'loss': 2.3774, 'grad_norm': 2.0707783699035645, 'learning_rate': 5.392156862745098e-05, 'epoch': 0.27}\n",
      "{'loss': 2.2166, 'grad_norm': 3.583402633666992, 'learning_rate': 5.882352941176471e-05, 'epoch': 0.29}\n",
      "{'loss': 2.0565, 'grad_norm': 11.863662719726562, 'learning_rate': 6.372549019607843e-05, 'epoch': 0.32}\n",
      "{'loss': 1.8943, 'grad_norm': 9.705154418945312, 'learning_rate': 6.862745098039216e-05, 'epoch': 0.34}\n",
      "{'loss': 1.7819, 'grad_norm': 9.026745796203613, 'learning_rate': 7.352941176470589e-05, 'epoch': 0.37}\n",
      "{'loss': 1.6969, 'grad_norm': 6.7602128982543945, 'learning_rate': 7.843137254901961e-05, 'epoch': 0.39}\n",
      "{'loss': 1.5772, 'grad_norm': 13.164727210998535, 'learning_rate': 8.333333333333334e-05, 'epoch': 0.42}\n",
      "{'loss': 1.4866, 'grad_norm': 5.957685470581055, 'learning_rate': 8.823529411764706e-05, 'epoch': 0.44}\n",
      "{'loss': 1.4356, 'grad_norm': 9.44601058959961, 'learning_rate': 9.313725490196079e-05, 'epoch': 0.47}\n",
      "{'loss': 1.2977, 'grad_norm': 8.159706115722656, 'learning_rate': 9.80392156862745e-05, 'epoch': 0.49}\n",
      "{'loss': 1.19, 'grad_norm': 10.789591789245605, 'learning_rate': 9.967231021299836e-05, 'epoch': 0.52}\n",
      "{'loss': 1.101, 'grad_norm': 19.230911254882812, 'learning_rate': 9.912616056799564e-05, 'epoch': 0.54}\n",
      "{'loss': 1.0734, 'grad_norm': 16.826583862304688, 'learning_rate': 9.85800109229929e-05, 'epoch': 0.56}\n",
      "{'loss': 1.0277, 'grad_norm': 12.406192779541016, 'learning_rate': 9.803386127799017e-05, 'epoch': 0.59}\n",
      "{'loss': 0.9914, 'grad_norm': 10.575517654418945, 'learning_rate': 9.748771163298744e-05, 'epoch': 0.61}\n",
      "{'loss': 0.9491, 'grad_norm': 13.984464645385742, 'learning_rate': 9.69415619879847e-05, 'epoch': 0.64}\n",
      "{'loss': 0.8403, 'grad_norm': 7.514204502105713, 'learning_rate': 9.639541234298199e-05, 'epoch': 0.66}\n",
      "{'loss': 0.8682, 'grad_norm': 9.915785789489746, 'learning_rate': 9.584926269797925e-05, 'epoch': 0.69}\n",
      "{'loss': 0.7809, 'grad_norm': 21.17110824584961, 'learning_rate': 9.530311305297652e-05, 'epoch': 0.71}\n",
      "{'loss': 0.7638, 'grad_norm': 11.987589836120605, 'learning_rate': 9.475696340797378e-05, 'epoch': 0.74}\n",
      "{'loss': 0.7056, 'grad_norm': 9.301761627197266, 'learning_rate': 9.421081376297106e-05, 'epoch': 0.76}\n",
      "{'loss': 0.7039, 'grad_norm': 10.702627182006836, 'learning_rate': 9.366466411796833e-05, 'epoch': 0.79}\n",
      "{'loss': 0.6877, 'grad_norm': 13.866501808166504, 'learning_rate': 9.31185144729656e-05, 'epoch': 0.81}\n",
      "{'loss': 0.7369, 'grad_norm': 8.157910346984863, 'learning_rate': 9.257236482796286e-05, 'epoch': 0.83}\n",
      "{'loss': 0.7056, 'grad_norm': 13.121135711669922, 'learning_rate': 9.202621518296014e-05, 'epoch': 0.86}\n",
      "{'loss': 0.6945, 'grad_norm': 19.557180404663086, 'learning_rate': 9.148006553795741e-05, 'epoch': 0.88}\n",
      "{'loss': 0.6174, 'grad_norm': 6.89358377456665, 'learning_rate': 9.093391589295466e-05, 'epoch': 0.91}\n",
      "{'loss': 0.5755, 'grad_norm': 15.431421279907227, 'learning_rate': 9.038776624795194e-05, 'epoch': 0.93}\n",
      "{'loss': 0.5739, 'grad_norm': 9.355595588684082, 'learning_rate': 8.984161660294921e-05, 'epoch': 0.96}\n",
      "{'loss': 0.5756, 'grad_norm': 20.3088436126709, 'learning_rate': 8.929546695794648e-05, 'epoch': 0.98}\n"
     ]
    },
    {
     "data": {
      "application/vnd.jupyter.widget-view+json": {
       "model_id": "7a770a146f2c4c908771c0e60f904e48",
       "version_major": 2,
       "version_minor": 0
      },
      "text/plain": [
       "  0%|          | 0/408 [00:00<?, ?it/s]"
      ]
     },
     "metadata": {},
     "output_type": "display_data"
    },
    {
     "name": "stdout",
     "output_type": "stream",
     "text": [
      "{'eval_loss': 0.33710142970085144, 'eval_accuracy': 0.9484836852207293, 'eval_runtime': 72.3264, 'eval_samples_per_second': 180.086, 'eval_steps_per_second': 5.641, 'epoch': 1.0}\n",
      "{'loss': 0.5797, 'grad_norm': 16.127525329589844, 'learning_rate': 8.874931731294374e-05, 'epoch': 1.01}\n",
      "{'loss': 0.5315, 'grad_norm': 29.789026260375977, 'learning_rate': 8.820316766794102e-05, 'epoch': 1.03}\n",
      "{'loss': 0.5597, 'grad_norm': 11.37763786315918, 'learning_rate': 8.765701802293829e-05, 'epoch': 1.06}\n",
      "{'loss': 0.5641, 'grad_norm': 13.575957298278809, 'learning_rate': 8.711086837793556e-05, 'epoch': 1.08}\n",
      "{'loss': 0.4855, 'grad_norm': 17.259918212890625, 'learning_rate': 8.656471873293282e-05, 'epoch': 1.1}\n",
      "{'loss': 0.5415, 'grad_norm': 23.361732482910156, 'learning_rate': 8.60185690879301e-05, 'epoch': 1.13}\n",
      "{'loss': 0.5183, 'grad_norm': 13.002607345581055, 'learning_rate': 8.547241944292737e-05, 'epoch': 1.15}\n",
      "{'loss': 0.4989, 'grad_norm': 6.121351718902588, 'learning_rate': 8.492626979792464e-05, 'epoch': 1.18}\n",
      "{'loss': 0.4912, 'grad_norm': 6.291368007659912, 'learning_rate': 8.43801201529219e-05, 'epoch': 1.2}\n",
      "{'loss': 0.5293, 'grad_norm': 4.498810768127441, 'learning_rate': 8.383397050791917e-05, 'epoch': 1.23}\n",
      "{'loss': 0.4775, 'grad_norm': 12.257245063781738, 'learning_rate': 8.328782086291645e-05, 'epoch': 1.25}\n",
      "{'loss': 0.4656, 'grad_norm': 33.16252136230469, 'learning_rate': 8.27416712179137e-05, 'epoch': 1.28}\n",
      "{'loss': 0.5225, 'grad_norm': 15.359668731689453, 'learning_rate': 8.219552157291098e-05, 'epoch': 1.3}\n",
      "{'loss': 0.4169, 'grad_norm': 11.964160919189453, 'learning_rate': 8.164937192790825e-05, 'epoch': 1.33}\n",
      "{'loss': 0.4147, 'grad_norm': 12.379961967468262, 'learning_rate': 8.110322228290553e-05, 'epoch': 1.35}\n",
      "{'loss': 0.5096, 'grad_norm': 7.3693389892578125, 'learning_rate': 8.055707263790278e-05, 'epoch': 1.38}\n",
      "{'loss': 0.4186, 'grad_norm': 7.076274394989014, 'learning_rate': 8.001092299290006e-05, 'epoch': 1.4}\n",
      "{'loss': 0.4839, 'grad_norm': 24.081411361694336, 'learning_rate': 7.946477334789733e-05, 'epoch': 1.42}\n",
      "{'loss': 0.4842, 'grad_norm': 13.77216625213623, 'learning_rate': 7.891862370289461e-05, 'epoch': 1.45}\n",
      "{'loss': 0.4586, 'grad_norm': 6.975672721862793, 'learning_rate': 7.837247405789186e-05, 'epoch': 1.47}\n",
      "{'loss': 0.4509, 'grad_norm': 14.084896087646484, 'learning_rate': 7.782632441288914e-05, 'epoch': 1.5}\n",
      "{'loss': 0.4331, 'grad_norm': 4.5528244972229, 'learning_rate': 7.728017476788641e-05, 'epoch': 1.52}\n",
      "{'loss': 0.466, 'grad_norm': 6.225786209106445, 'learning_rate': 7.673402512288367e-05, 'epoch': 1.55}\n",
      "{'loss': 0.3846, 'grad_norm': 9.430876731872559, 'learning_rate': 7.618787547788094e-05, 'epoch': 1.57}\n",
      "{'loss': 0.425, 'grad_norm': 14.110557556152344, 'learning_rate': 7.56417258328782e-05, 'epoch': 1.6}\n",
      "{'loss': 0.4532, 'grad_norm': 22.822912216186523, 'learning_rate': 7.509557618787549e-05, 'epoch': 1.62}\n",
      "{'loss': 0.4897, 'grad_norm': 12.657872200012207, 'learning_rate': 7.454942654287275e-05, 'epoch': 1.65}\n",
      "{'loss': 0.3805, 'grad_norm': 4.151900291442871, 'learning_rate': 7.400327689787002e-05, 'epoch': 1.67}\n",
      "{'loss': 0.396, 'grad_norm': 20.44113540649414, 'learning_rate': 7.345712725286729e-05, 'epoch': 1.69}\n",
      "{'loss': 0.4262, 'grad_norm': 7.954871654510498, 'learning_rate': 7.291097760786457e-05, 'epoch': 1.72}\n",
      "{'loss': 0.4142, 'grad_norm': 13.126614570617676, 'learning_rate': 7.236482796286182e-05, 'epoch': 1.74}\n",
      "{'loss': 0.4244, 'grad_norm': 9.282666206359863, 'learning_rate': 7.18186783178591e-05, 'epoch': 1.77}\n",
      "{'loss': 0.4508, 'grad_norm': 13.440847396850586, 'learning_rate': 7.127252867285637e-05, 'epoch': 1.79}\n",
      "{'loss': 0.424, 'grad_norm': 10.378652572631836, 'learning_rate': 7.072637902785365e-05, 'epoch': 1.82}\n",
      "{'loss': 0.3675, 'grad_norm': 9.159124374389648, 'learning_rate': 7.01802293828509e-05, 'epoch': 1.84}\n",
      "{'loss': 0.3773, 'grad_norm': 19.242828369140625, 'learning_rate': 6.963407973784818e-05, 'epoch': 1.87}\n",
      "{'loss': 0.4182, 'grad_norm': 6.700178146362305, 'learning_rate': 6.908793009284544e-05, 'epoch': 1.89}\n",
      "{'loss': 0.3536, 'grad_norm': 7.836777687072754, 'learning_rate': 6.854178044784271e-05, 'epoch': 1.92}\n",
      "{'loss': 0.406, 'grad_norm': 6.847164154052734, 'learning_rate': 6.799563080283998e-05, 'epoch': 1.94}\n",
      "{'loss': 0.3563, 'grad_norm': 4.651018142700195, 'learning_rate': 6.744948115783724e-05, 'epoch': 1.96}\n",
      "{'loss': 0.3447, 'grad_norm': 12.830175399780273, 'learning_rate': 6.690333151283452e-05, 'epoch': 1.99}\n"
     ]
    },
    {
     "data": {
      "application/vnd.jupyter.widget-view+json": {
       "model_id": "30ca198915624b5197106dc6613f3cce",
       "version_major": 2,
       "version_minor": 0
      },
      "text/plain": [
       "  0%|          | 0/408 [00:00<?, ?it/s]"
      ]
     },
     "metadata": {},
     "output_type": "display_data"
    },
    {
     "name": "stdout",
     "output_type": "stream",
     "text": [
      "{'eval_loss': 0.19000662863254547, 'eval_accuracy': 0.9642226487523993, 'eval_runtime': 71.8153, 'eval_samples_per_second': 181.368, 'eval_steps_per_second': 5.681, 'epoch': 2.0}\n",
      "{'loss': 0.463, 'grad_norm': 9.59345531463623, 'learning_rate': 6.635718186783179e-05, 'epoch': 2.01}\n",
      "{'loss': 0.3763, 'grad_norm': 9.673075675964355, 'learning_rate': 6.581103222282906e-05, 'epoch': 2.04}\n",
      "{'loss': 0.3515, 'grad_norm': 6.468060493469238, 'learning_rate': 6.526488257782632e-05, 'epoch': 2.06}\n",
      "{'loss': 0.3383, 'grad_norm': 9.938617706298828, 'learning_rate': 6.47187329328236e-05, 'epoch': 2.09}\n",
      "{'loss': 0.303, 'grad_norm': 20.537630081176758, 'learning_rate': 6.417258328782087e-05, 'epoch': 2.11}\n",
      "{'loss': 0.3531, 'grad_norm': 8.246866226196289, 'learning_rate': 6.362643364281814e-05, 'epoch': 2.14}\n",
      "{'loss': 0.3341, 'grad_norm': 10.045408248901367, 'learning_rate': 6.30802839978154e-05, 'epoch': 2.16}\n",
      "{'loss': 0.3425, 'grad_norm': 6.7844367027282715, 'learning_rate': 6.253413435281268e-05, 'epoch': 2.19}\n",
      "{'loss': 0.307, 'grad_norm': 8.635451316833496, 'learning_rate': 6.198798470780995e-05, 'epoch': 2.21}\n",
      "{'loss': 0.3437, 'grad_norm': 22.130990982055664, 'learning_rate': 6.14418350628072e-05, 'epoch': 2.23}\n",
      "{'loss': 0.3161, 'grad_norm': 12.9221830368042, 'learning_rate': 6.089568541780448e-05, 'epoch': 2.26}\n",
      "{'loss': 0.37, 'grad_norm': 7.522242069244385, 'learning_rate': 6.034953577280175e-05, 'epoch': 2.28}\n",
      "{'loss': 0.3069, 'grad_norm': 4.501258373260498, 'learning_rate': 5.980338612779902e-05, 'epoch': 2.31}\n",
      "{'loss': 0.3328, 'grad_norm': 7.581739902496338, 'learning_rate': 5.925723648279629e-05, 'epoch': 2.33}\n",
      "{'loss': 0.309, 'grad_norm': 8.985495567321777, 'learning_rate': 5.871108683779356e-05, 'epoch': 2.36}\n",
      "{'loss': 0.2905, 'grad_norm': 16.374902725219727, 'learning_rate': 5.816493719279082e-05, 'epoch': 2.38}\n",
      "{'loss': 0.3025, 'grad_norm': 8.06501579284668, 'learning_rate': 5.76187875477881e-05, 'epoch': 2.41}\n",
      "{'loss': 0.3115, 'grad_norm': 6.4182610511779785, 'learning_rate': 5.707263790278536e-05, 'epoch': 2.43}\n",
      "{'loss': 0.2981, 'grad_norm': 26.742521286010742, 'learning_rate': 5.652648825778264e-05, 'epoch': 2.46}\n",
      "{'loss': 0.3119, 'grad_norm': 10.976957321166992, 'learning_rate': 5.59803386127799e-05, 'epoch': 2.48}\n",
      "{'loss': 0.3034, 'grad_norm': 5.055606842041016, 'learning_rate': 5.543418896777718e-05, 'epoch': 2.5}\n",
      "{'loss': 0.348, 'grad_norm': 5.262386798858643, 'learning_rate': 5.488803932277444e-05, 'epoch': 2.53}\n",
      "{'loss': 0.2985, 'grad_norm': 6.207670211791992, 'learning_rate': 5.434188967777171e-05, 'epoch': 2.55}\n",
      "{'loss': 0.3105, 'grad_norm': 6.00502872467041, 'learning_rate': 5.379574003276898e-05, 'epoch': 2.58}\n",
      "{'loss': 0.2885, 'grad_norm': 5.458115577697754, 'learning_rate': 5.324959038776625e-05, 'epoch': 2.6}\n",
      "{'loss': 0.2675, 'grad_norm': 8.142953872680664, 'learning_rate': 5.270344074276352e-05, 'epoch': 2.63}\n",
      "{'loss': 0.2828, 'grad_norm': 10.106416702270508, 'learning_rate': 5.215729109776079e-05, 'epoch': 2.65}\n",
      "{'loss': 0.2979, 'grad_norm': 9.086727142333984, 'learning_rate': 5.161114145275806e-05, 'epoch': 2.68}\n",
      "{'loss': 0.2751, 'grad_norm': 5.321120262145996, 'learning_rate': 5.106499180775533e-05, 'epoch': 2.7}\n",
      "{'loss': 0.2866, 'grad_norm': 8.616780281066895, 'learning_rate': 5.05188421627526e-05, 'epoch': 2.73}\n",
      "{'loss': 0.294, 'grad_norm': 7.208464622497559, 'learning_rate': 4.9972692517749866e-05, 'epoch': 2.75}\n",
      "{'loss': 0.3028, 'grad_norm': 5.860569000244141, 'learning_rate': 4.942654287274713e-05, 'epoch': 2.77}\n",
      "{'loss': 0.3029, 'grad_norm': 6.298159599304199, 'learning_rate': 4.8880393227744406e-05, 'epoch': 2.8}\n",
      "{'loss': 0.285, 'grad_norm': 12.798462867736816, 'learning_rate': 4.833424358274167e-05, 'epoch': 2.82}\n",
      "{'loss': 0.2612, 'grad_norm': 9.190635681152344, 'learning_rate': 4.7788093937738946e-05, 'epoch': 2.85}\n",
      "{'loss': 0.2689, 'grad_norm': 7.739348888397217, 'learning_rate': 4.724194429273621e-05, 'epoch': 2.87}\n",
      "{'loss': 0.2905, 'grad_norm': 13.041799545288086, 'learning_rate': 4.669579464773348e-05, 'epoch': 2.9}\n",
      "{'loss': 0.2813, 'grad_norm': 5.799235820770264, 'learning_rate': 4.614964500273075e-05, 'epoch': 2.92}\n",
      "{'loss': 0.2672, 'grad_norm': 15.243249893188477, 'learning_rate': 4.560349535772802e-05, 'epoch': 2.95}\n",
      "{'loss': 0.3204, 'grad_norm': 14.887852668762207, 'learning_rate': 4.505734571272529e-05, 'epoch': 2.97}\n",
      "{'loss': 0.2999, 'grad_norm': 5.369353771209717, 'learning_rate': 4.451119606772256e-05, 'epoch': 3.0}\n"
     ]
    },
    {
     "data": {
      "application/vnd.jupyter.widget-view+json": {
       "model_id": "08fc4d55f0d54c4d82d70fc9e10efeac",
       "version_major": 2,
       "version_minor": 0
      },
      "text/plain": [
       "  0%|          | 0/408 [00:00<?, ?it/s]"
      ]
     },
     "metadata": {},
     "output_type": "display_data"
    },
    {
     "name": "stdout",
     "output_type": "stream",
     "text": [
      "{'eval_loss': 0.11444877833127975, 'eval_accuracy': 0.9744337811900192, 'eval_runtime': 71.4791, 'eval_samples_per_second': 182.221, 'eval_steps_per_second': 5.708, 'epoch': 3.0}\n",
      "{'loss': 0.2584, 'grad_norm': 7.418062210083008, 'learning_rate': 4.396504642271983e-05, 'epoch': 3.02}\n",
      "{'loss': 0.2462, 'grad_norm': 5.906749725341797, 'learning_rate': 4.341889677771709e-05, 'epoch': 3.04}\n",
      "{'loss': 0.2385, 'grad_norm': 4.689990043640137, 'learning_rate': 4.2872747132714365e-05, 'epoch': 3.07}\n",
      "{'loss': 0.2456, 'grad_norm': 8.792654991149902, 'learning_rate': 4.232659748771163e-05, 'epoch': 3.09}\n",
      "{'loss': 0.2717, 'grad_norm': 16.692411422729492, 'learning_rate': 4.1780447842708904e-05, 'epoch': 3.12}\n",
      "{'loss': 0.2517, 'grad_norm': 4.360097885131836, 'learning_rate': 4.123429819770617e-05, 'epoch': 3.14}\n",
      "{'loss': 0.2508, 'grad_norm': 10.163043022155762, 'learning_rate': 4.0688148552703444e-05, 'epoch': 3.17}\n",
      "{'loss': 0.2286, 'grad_norm': 10.060879707336426, 'learning_rate': 4.014199890770071e-05, 'epoch': 3.19}\n",
      "{'loss': 0.219, 'grad_norm': 13.733748435974121, 'learning_rate': 3.9595849262697984e-05, 'epoch': 3.22}\n",
      "{'loss': 0.2398, 'grad_norm': 6.838911056518555, 'learning_rate': 3.904969961769525e-05, 'epoch': 3.24}\n",
      "{'loss': 0.2933, 'grad_norm': 9.458581924438477, 'learning_rate': 3.8503549972692523e-05, 'epoch': 3.27}\n",
      "{'loss': 0.2881, 'grad_norm': 8.860987663269043, 'learning_rate': 3.795740032768979e-05, 'epoch': 3.29}\n",
      "{'loss': 0.2579, 'grad_norm': 5.931852340698242, 'learning_rate': 3.741125068268706e-05, 'epoch': 3.31}\n",
      "{'loss': 0.2626, 'grad_norm': 5.133358955383301, 'learning_rate': 3.686510103768433e-05, 'epoch': 3.34}\n",
      "{'loss': 0.251, 'grad_norm': 12.986297607421875, 'learning_rate': 3.6318951392681596e-05, 'epoch': 3.36}\n",
      "{'loss': 0.2146, 'grad_norm': 7.80228328704834, 'learning_rate': 3.577280174767886e-05, 'epoch': 3.39}\n",
      "{'loss': 0.2192, 'grad_norm': 3.224271535873413, 'learning_rate': 3.5226652102676136e-05, 'epoch': 3.41}\n",
      "{'loss': 0.2389, 'grad_norm': 6.378289222717285, 'learning_rate': 3.46805024576734e-05, 'epoch': 3.44}\n",
      "{'loss': 0.2856, 'grad_norm': 10.998106956481934, 'learning_rate': 3.4134352812670676e-05, 'epoch': 3.46}\n",
      "{'loss': 0.2377, 'grad_norm': 3.3669040203094482, 'learning_rate': 3.358820316766794e-05, 'epoch': 3.49}\n",
      "{'loss': 0.2599, 'grad_norm': 7.2643723487854, 'learning_rate': 3.304205352266521e-05, 'epoch': 3.51}\n",
      "{'loss': 0.2307, 'grad_norm': 3.658247232437134, 'learning_rate': 3.249590387766248e-05, 'epoch': 3.54}\n",
      "{'loss': 0.2796, 'grad_norm': 12.631953239440918, 'learning_rate': 3.194975423265975e-05, 'epoch': 3.56}\n",
      "{'loss': 0.2059, 'grad_norm': 4.972902297973633, 'learning_rate': 3.140360458765702e-05, 'epoch': 3.59}\n",
      "{'loss': 0.2631, 'grad_norm': 9.229409217834473, 'learning_rate': 3.085745494265429e-05, 'epoch': 3.61}\n",
      "{'loss': 0.237, 'grad_norm': 8.444936752319336, 'learning_rate': 3.031130529765156e-05, 'epoch': 3.63}\n",
      "{'loss': 0.2101, 'grad_norm': 6.206844329833984, 'learning_rate': 2.976515565264883e-05, 'epoch': 3.66}\n",
      "{'loss': 0.2716, 'grad_norm': 6.688692569732666, 'learning_rate': 2.9219006007646098e-05, 'epoch': 3.68}\n",
      "{'loss': 0.1941, 'grad_norm': 8.580548286437988, 'learning_rate': 2.8672856362643364e-05, 'epoch': 3.71}\n",
      "{'loss': 0.1829, 'grad_norm': 13.013733863830566, 'learning_rate': 2.8126706717640634e-05, 'epoch': 3.73}\n",
      "{'loss': 0.2327, 'grad_norm': 9.438128471374512, 'learning_rate': 2.7580557072637904e-05, 'epoch': 3.76}\n",
      "{'loss': 0.2174, 'grad_norm': 6.057754039764404, 'learning_rate': 2.7034407427635174e-05, 'epoch': 3.78}\n",
      "{'loss': 0.196, 'grad_norm': 4.533336639404297, 'learning_rate': 2.648825778263244e-05, 'epoch': 3.81}\n",
      "{'loss': 0.2172, 'grad_norm': 18.255979537963867, 'learning_rate': 2.594210813762971e-05, 'epoch': 3.83}\n",
      "{'loss': 0.2193, 'grad_norm': 16.72092628479004, 'learning_rate': 2.539595849262698e-05, 'epoch': 3.86}\n",
      "{'loss': 0.2283, 'grad_norm': 4.797715187072754, 'learning_rate': 2.484980884762425e-05, 'epoch': 3.88}\n",
      "{'loss': 0.2377, 'grad_norm': 10.509604454040527, 'learning_rate': 2.430365920262152e-05, 'epoch': 3.9}\n",
      "{'loss': 0.2313, 'grad_norm': 6.261651039123535, 'learning_rate': 2.375750955761879e-05, 'epoch': 3.93}\n",
      "{'loss': 0.2362, 'grad_norm': 7.438567161560059, 'learning_rate': 2.3211359912616056e-05, 'epoch': 3.95}\n",
      "{'loss': 0.2062, 'grad_norm': 24.136058807373047, 'learning_rate': 2.2665210267613326e-05, 'epoch': 3.98}\n"
     ]
    },
    {
     "data": {
      "application/vnd.jupyter.widget-view+json": {
       "model_id": "12794ac92ef34ac6ad9c1169343bffda",
       "version_major": 2,
       "version_minor": 0
      },
      "text/plain": [
       "  0%|          | 0/408 [00:00<?, ?it/s]"
      ]
     },
     "metadata": {},
     "output_type": "display_data"
    },
    {
     "name": "stdout",
     "output_type": "stream",
     "text": [
      "{'eval_loss': 0.09795144200325012, 'eval_accuracy': 0.9781190019193858, 'eval_runtime': 72.2277, 'eval_samples_per_second': 180.333, 'eval_steps_per_second': 5.649, 'epoch': 4.0}\n",
      "{'loss': 0.2322, 'grad_norm': 11.299735069274902, 'learning_rate': 2.2119060622610596e-05, 'epoch': 4.0}\n",
      "{'loss': 0.1822, 'grad_norm': 3.855872392654419, 'learning_rate': 2.1572910977607866e-05, 'epoch': 4.03}\n",
      "{'loss': 0.1994, 'grad_norm': 2.8331615924835205, 'learning_rate': 2.1026761332605136e-05, 'epoch': 4.05}\n",
      "{'loss': 0.2436, 'grad_norm': 11.57017993927002, 'learning_rate': 2.0480611687602405e-05, 'epoch': 4.08}\n",
      "{'loss': 0.2229, 'grad_norm': 5.952452659606934, 'learning_rate': 1.9934462042599672e-05, 'epoch': 4.1}\n",
      "{'loss': 0.1869, 'grad_norm': 5.162848949432373, 'learning_rate': 1.9388312397596942e-05, 'epoch': 4.13}\n",
      "{'loss': 0.2021, 'grad_norm': 9.352360725402832, 'learning_rate': 1.884216275259421e-05, 'epoch': 4.15}\n",
      "{'loss': 0.1975, 'grad_norm': 4.194348335266113, 'learning_rate': 1.829601310759148e-05, 'epoch': 4.17}\n",
      "{'loss': 0.1889, 'grad_norm': 4.643499374389648, 'learning_rate': 1.774986346258875e-05, 'epoch': 4.2}\n",
      "{'loss': 0.2277, 'grad_norm': 10.07717514038086, 'learning_rate': 1.720371381758602e-05, 'epoch': 4.22}\n",
      "{'loss': 0.1911, 'grad_norm': 4.492937088012695, 'learning_rate': 1.665756417258329e-05, 'epoch': 4.25}\n",
      "{'loss': 0.1947, 'grad_norm': 7.898068428039551, 'learning_rate': 1.6111414527580558e-05, 'epoch': 4.27}\n",
      "{'loss': 0.179, 'grad_norm': 2.2005929946899414, 'learning_rate': 1.5565264882577827e-05, 'epoch': 4.3}\n",
      "{'loss': 0.1827, 'grad_norm': 7.892251968383789, 'learning_rate': 1.5019115237575096e-05, 'epoch': 4.32}\n",
      "{'loss': 0.2088, 'grad_norm': 14.678607940673828, 'learning_rate': 1.4472965592572365e-05, 'epoch': 4.35}\n",
      "{'loss': 0.2164, 'grad_norm': 11.71771240234375, 'learning_rate': 1.3926815947569635e-05, 'epoch': 4.37}\n",
      "{'loss': 0.2172, 'grad_norm': 6.489935398101807, 'learning_rate': 1.3380666302566905e-05, 'epoch': 4.4}\n",
      "{'loss': 0.1753, 'grad_norm': 9.871038436889648, 'learning_rate': 1.2834516657564175e-05, 'epoch': 4.42}\n",
      "{'loss': 0.1987, 'grad_norm': 6.997339725494385, 'learning_rate': 1.2288367012561443e-05, 'epoch': 4.44}\n",
      "{'loss': 0.1898, 'grad_norm': 5.500323295593262, 'learning_rate': 1.1742217367558711e-05, 'epoch': 4.47}\n",
      "{'loss': 0.2033, 'grad_norm': 9.08096981048584, 'learning_rate': 1.1196067722555981e-05, 'epoch': 4.49}\n",
      "{'loss': 0.2021, 'grad_norm': 6.206092357635498, 'learning_rate': 1.0649918077553251e-05, 'epoch': 4.52}\n",
      "{'loss': 0.1739, 'grad_norm': 5.199458122253418, 'learning_rate': 1.010376843255052e-05, 'epoch': 4.54}\n",
      "{'loss': 0.2055, 'grad_norm': 9.807747840881348, 'learning_rate': 9.557618787547787e-06, 'epoch': 4.57}\n",
      "{'loss': 0.1751, 'grad_norm': 12.14246940612793, 'learning_rate': 9.011469142545057e-06, 'epoch': 4.59}\n",
      "{'loss': 0.1896, 'grad_norm': 7.51420259475708, 'learning_rate': 8.465319497542327e-06, 'epoch': 4.62}\n",
      "{'loss': 0.1544, 'grad_norm': 3.087040424346924, 'learning_rate': 7.919169852539595e-06, 'epoch': 4.64}\n",
      "{'loss': 0.1639, 'grad_norm': 4.527561187744141, 'learning_rate': 7.373020207536865e-06, 'epoch': 4.67}\n",
      "{'loss': 0.1935, 'grad_norm': 5.780224800109863, 'learning_rate': 6.826870562534135e-06, 'epoch': 4.69}\n",
      "{'loss': 0.1463, 'grad_norm': 3.3336546421051025, 'learning_rate': 6.280720917531403e-06, 'epoch': 4.71}\n",
      "{'loss': 0.171, 'grad_norm': 3.80130934715271, 'learning_rate': 5.734571272528673e-06, 'epoch': 4.74}\n",
      "{'loss': 0.1933, 'grad_norm': 11.667370796203613, 'learning_rate': 5.188421627525942e-06, 'epoch': 4.76}\n",
      "{'loss': 0.1625, 'grad_norm': 8.823768615722656, 'learning_rate': 4.642271982523211e-06, 'epoch': 4.79}\n",
      "{'loss': 0.195, 'grad_norm': 9.530349731445312, 'learning_rate': 4.09612233752048e-06, 'epoch': 4.81}\n",
      "{'loss': 0.2076, 'grad_norm': 9.7529296875, 'learning_rate': 3.54997269251775e-06, 'epoch': 4.84}\n",
      "{'loss': 0.1979, 'grad_norm': 4.1172027587890625, 'learning_rate': 3.0038230475150195e-06, 'epoch': 4.86}\n",
      "{'loss': 0.2008, 'grad_norm': 12.106125831604004, 'learning_rate': 2.4576734025122886e-06, 'epoch': 4.89}\n",
      "{'loss': 0.1703, 'grad_norm': 6.773913860321045, 'learning_rate': 1.9115237575095576e-06, 'epoch': 4.91}\n",
      "{'loss': 0.1691, 'grad_norm': 3.34587025642395, 'learning_rate': 1.365374112506827e-06, 'epoch': 4.94}\n",
      "{'loss': 0.1667, 'grad_norm': 4.864436626434326, 'learning_rate': 8.192244675040963e-07, 'epoch': 4.96}\n",
      "{'loss': 0.2142, 'grad_norm': 13.682920455932617, 'learning_rate': 2.730748225013654e-07, 'epoch': 4.98}\n"
     ]
    },
    {
     "data": {
      "application/vnd.jupyter.widget-view+json": {
       "model_id": "565eeae1556541d5a017dc81e99db431",
       "version_major": 2,
       "version_minor": 0
      },
      "text/plain": [
       "  0%|          | 0/408 [00:00<?, ?it/s]"
      ]
     },
     "metadata": {},
     "output_type": "display_data"
    },
    {
     "name": "stdout",
     "output_type": "stream",
     "text": [
      "{'eval_loss': 0.08980436623096466, 'eval_accuracy': 0.9776583493282149, 'eval_runtime': 72.341, 'eval_samples_per_second': 180.05, 'eval_steps_per_second': 5.64, 'epoch': 5.0}\n",
      "{'train_runtime': 5735.5395, 'train_samples_per_second': 45.417, 'train_steps_per_second': 0.355, 'train_loss': 0.5633986990340512, 'epoch': 5.0}\n"
     ]
    },
    {
     "data": {
      "text/plain": [
       "TrainOutput(global_step=2035, training_loss=0.5633986990340512, metrics={'train_runtime': 5735.5395, 'train_samples_per_second': 45.417, 'train_steps_per_second': 0.355, 'total_flos': 2.36389907860608e+18, 'train_loss': 0.5633986990340512, 'epoch': 4.996930632289748})"
      ]
     },
     "execution_count": 18,
     "metadata": {},
     "output_type": "execute_result"
    }
   ],
   "source": [
    "num_labels = len(id2label)\n",
    "model = AutoModelForAudioClassification.from_pretrained(\n",
    "    model_name, num_labels=num_labels, label2id=label2id, id2label=id2label\n",
    ")\n",
    "\n",
    "training_args = TrainingArguments(\n",
    "    output_dir=MODEL_NAME,\n",
    "    evaluation_strategy=\"epoch\",\n",
    "    save_strategy=\"epoch\",\n",
    "    learning_rate=LEARNING_RATE,\n",
    "    per_device_train_batch_size=PER_DEVICE_TRAIN_BATCH_SIZE,\n",
    "    gradient_accumulation_steps=GRADIENT_ACCUMULATION_STEPS,\n",
    "    per_device_eval_batch_size=PER_DEVICE_EVAL_BATCH_SIZE,\n",
    "    num_train_epochs=NUM_TRAIN_EPOCHS,\n",
    "    warmup_ratio=WARMUP_RATIO,\n",
    "    logging_steps=LOGGING_STEPS,\n",
    "    load_best_model_at_end=True,\n",
    "    metric_for_best_model=\"accuracy\",\n",
    "    push_to_hub=True,\n",
    ")\n",
    "\n",
    "trainer = Trainer(\n",
    "    model=model,\n",
    "    args=training_args,\n",
    "    train_dataset=data[\"train\"].with_format(\"torch\"),\n",
    "    eval_dataset=data[\"test\"].with_format(\"torch\"),\n",
    "    tokenizer=feature_extractor,\n",
    "    compute_metrics=compute_metrics,\n",
    ")\n",
    "\n",
    "trainer.train()"
   ]
  }
 ],
 "metadata": {
  "kernelspec": {
   "display_name": "base",
   "language": "python",
   "name": "python3"
  },
  "language_info": {
   "codemirror_mode": {
    "name": "ipython",
    "version": 3
   },
   "file_extension": ".py",
   "mimetype": "text/x-python",
   "name": "python",
   "nbconvert_exporter": "python",
   "pygments_lexer": "ipython3",
   "version": "3.10.12"
  }
 },
 "nbformat": 4,
 "nbformat_minor": 2
}
