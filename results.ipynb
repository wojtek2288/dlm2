{
 "cells": [
  {
   "cell_type": "code",
   "execution_count": 45,
   "metadata": {},
   "outputs": [],
   "source": [
    "from datasets import load_dataset\n",
    "from transformers import pipeline\n",
    "from sklearn.metrics import confusion_matrix\n",
    "import matplotlib.pyplot as plt\n",
    "import seaborn as sns\n",
    "import numpy as np\n",
    "\n",
    "SEED=1"
   ]
  },
  {
   "cell_type": "markdown",
   "metadata": {},
   "source": [
    "## Loading the data"
   ]
  },
  {
   "cell_type": "code",
   "execution_count": 46,
   "metadata": {},
   "outputs": [],
   "source": [
    "special_labels = ['yes', 'no', 'up', 'down', 'left', 'right', 'on', 'off', 'stop', 'go', 'silence']"
   ]
  },
  {
   "cell_type": "code",
   "execution_count": 47,
   "metadata": {},
   "outputs": [
    {
     "data": {
      "application/vnd.jupyter.widget-view+json": {
       "model_id": "a3f8812b0e1e432daef1fee84265282c",
       "version_major": 2,
       "version_minor": 0
      },
      "text/plain": [
       "Resolving data files:   0%|          | 0/65123 [00:00<?, ?it/s]"
      ]
     },
     "metadata": {},
     "output_type": "display_data"
    }
   ],
   "source": [
    "data = load_dataset(\"train/audio\", name=\"en-US\", split='train')\n",
    "data = data.train_test_split(test_size=0.2, seed=SEED)"
   ]
  },
  {
   "cell_type": "code",
   "execution_count": 48,
   "metadata": {},
   "outputs": [],
   "source": [
    "all_labels = data[\"train\"].features[\"label\"].names\n",
    "\n",
    "label2id, id2label = dict(), dict()\n",
    "\n",
    "for i, label in enumerate(all_labels):\n",
    "    label2id[label] = str(i)\n",
    "    id2label[str(i)] = label\n",
    "\n",
    "special_ids = [int(label2id[label]) for label in special_labels]"
   ]
  },
  {
   "cell_type": "code",
   "execution_count": 49,
   "metadata": {},
   "outputs": [],
   "source": [
    "def get_confusion_matrix(classifier, audio, true_labels, all_labels):\n",
    "    predicted = classifier(audio)\n",
    "    predicted_labels = [pred[0][\"label\"] for pred in predicted]\n",
    "    conf_matrix = confusion_matrix(true_labels, predicted_labels, labels=all_labels)\n",
    "\n",
    "    return conf_matrix\n",
    "\n",
    "def plot_confusion_matrix(matrix, labels, model_name):\n",
    "    plt.figure(figsize=(14, 7))\n",
    "    sns.heatmap(matrix, annot=True, fmt=\"d\", xticklabels=labels, yticklabels=labels)\n",
    "    plt.xlabel('Predicted Labels')\n",
    "    plt.ylabel('True Labels')\n",
    "    plt.title(f'Confusion Matrix for model {model_name}')\n",
    "    plt.show()"
   ]
  },
  {
   "cell_type": "code",
   "execution_count": 50,
   "metadata": {},
   "outputs": [],
   "source": [
    "def get_true_labels(input):\n",
    "    return [id2label[str(a)] for a in input[\"label\"]]"
   ]
  },
  {
   "cell_type": "code",
   "execution_count": null,
   "metadata": {},
   "outputs": [],
   "source": [
    "def test_one(data, classifier, model_name):\n",
    "    all_labels_data = data[\"test\"]\n",
    "    test_conf_matrix = get_confusion_matrix(classifier, all_labels_data[\"audio\"], get_true_labels(all_labels_data), all_labels)\n",
    "    plot_confusion_matrix(test_conf_matrix, all_labels, model_name)\n",
    "    \n",
    "    train_conf_matrix = get_confusion_matrix(classifier, data[\"train\"][\"audio\"], get_true_labels(data[\"train\"]), all_labels)\n",
    "\n",
    "    accuracies_test = np.diag(test_conf_matrix) / np.sum(test_conf_matrix, axis=1)\n",
    "    accuracies_train = np.diag(train_conf_matrix) / np.sum(train_conf_matrix, axis=1)\n",
    "\n",
    "    plt.figure(figsize=(10, 6))\n",
    "    plt.bar(all_labels, accuracies_test, color='skyblue', label=\"Test\")\n",
    "    plt.bar(all_labels, accuracies_train, color='red', label=\"Train\")\n",
    "    plt.xlabel('Classes')\n",
    "    plt.ylabel('Accuracy')\n",
    "    plt.title('Accuracy Per Class')\n",
    "    plt.ylim(0, 1)\n",
    "    plt.show()\n",
    "\n",
    "    train_accuracy = np.trace(train_conf_matrix) / np.sum(train_conf_matrix)\n",
    "    test_accuracy = np.trace(test_conf_matrix) / np.sum(test_conf_matrix)\n",
    "\n",
    "    print(f'Overall model train accuracy: {train_accuracy:.2f}')\n",
    "    print(f'Overall model test accuracy: {test_accuracy:.2f}')\n",
    "\n",
    "def test_two(data, classifier, model_name):\n",
    "    filtered_audio_test = []\n",
    "    filtered_true_labels_test = []\n",
    "    for pair in data[\"test\"]:\n",
    "        if id2label[str(pair[\"label\"])] in special_labels:\n",
    "            filtered_audio_test.append(pair[\"audio\"])\n",
    "            filtered_true_labels_test.append(id2label[str(pair[\"label\"])])\n",
    "\n",
    "    filtered_audio_train = []\n",
    "    filtered_true_labels_train = []\n",
    "    for pair in data[\"train\"]:\n",
    "        if id2label[str(pair[\"label\"])] in special_labels:\n",
    "            filtered_audio_test.append(pair[\"audio\"])\n",
    "            filtered_true_labels_test.append(id2label[str(pair[\"label\"])])\n",
    "\n",
    "    test_conf_matrix = get_confusion_matrix(classifier, filtered_audio_test, filtered_true_labels_test, all_labels)\n",
    "    plot_confusion_matrix(test_conf_matrix, all_labels, model_name)\n",
    "\n",
    "    train_conf_matrix = get_confusion_matrix(classifier, filtered_audio_train, filtered_true_labels_train, all_labels)\n",
    "\n",
    "    accuracies_test = np.diag(test_conf_matrix) / np.sum(test_conf_matrix, axis=1)\n",
    "    accuracies_train = np.diag(train_conf_matrix) / np.sum(train_conf_matrix, axis=1)\n",
    "\n",
    "    selected_accuracies_test = [accuracies_test[i] for i, label in enumerate(all_labels) if label in special_labels]\n",
    "    selected_accuracies_train = [accuracies_train[i] for i, label in enumerate(all_labels) if label in special_labels]\n",
    "    selected_label_names = [label for label in all_labels if label in special_labels]\n",
    "    plt.figure(figsize=(8, 5))\n",
    "    plt.bar(all_labels, selected_accuracies_test, color='skyblue', label=\"Test\")\n",
    "    plt.bar(all_labels, selected_accuracies_train, color='red', label=\"Train\")\n",
    "    plt.xlabel('Classes')\n",
    "    plt.ylabel('Accuracy')\n",
    "    plt.title('Accuracy Per Selected Class')\n",
    "    plt.ylim(0, 1)\n",
    "    plt.show()\n",
    "\n",
    "    train_accuracy = np.trace(train_conf_matrix) / np.sum(train_conf_matrix)\n",
    "    test_accuracy = np.trace(test_conf_matrix) / np.sum(test_conf_matrix)\n",
    "\n",
    "    print(f'Selected model train accuracy: {train_accuracy:.2f}')\n",
    "    print(f'Selected model test accuracy: {test_accuracy:.2f}')"
   ]
  },
  {
   "cell_type": "markdown",
   "metadata": {},
   "source": [
    "## Model Wav2Vec"
   ]
  },
  {
   "cell_type": "code",
   "execution_count": 51,
   "metadata": {},
   "outputs": [],
   "source": [
    "model_name = \"wojtek2288/Wav2Vec\"\n",
    "classifier = pipeline(\"audio-classification\", model=model_name)"
   ]
  },
  {
   "cell_type": "markdown",
   "metadata": {},
   "source": [
    "### Testing the model on all possible classes"
   ]
  },
  {
   "cell_type": "code",
   "execution_count": null,
   "metadata": {},
   "outputs": [],
   "source": [
    "test_one(data, classifier, model_name)"
   ]
  },
  {
   "cell_type": "markdown",
   "metadata": {},
   "source": [
    "### Testing the model only on data with labels defined in the task"
   ]
  },
  {
   "cell_type": "code",
   "execution_count": null,
   "metadata": {},
   "outputs": [],
   "source": [
    "test_two(data, classifier, model_name)"
   ]
  },
  {
   "cell_type": "markdown",
   "metadata": {},
   "source": [
    "## Model HUBERT"
   ]
  },
  {
   "cell_type": "code",
   "execution_count": null,
   "metadata": {},
   "outputs": [],
   "source": [
    "model_name = \"wojtek2288/HUBERT\"\n",
    "classifier = pipeline(\"audio-classification\", model=model_name)"
   ]
  },
  {
   "cell_type": "markdown",
   "metadata": {},
   "source": [
    "### Testing the model on all possible classes"
   ]
  },
  {
   "cell_type": "code",
   "execution_count": null,
   "metadata": {},
   "outputs": [],
   "source": [
    "test_one(data, classifier, model_name)"
   ]
  },
  {
   "cell_type": "markdown",
   "metadata": {},
   "source": [
    "### Testing the model only on data with labels defined in the task"
   ]
  },
  {
   "cell_type": "code",
   "execution_count": null,
   "metadata": {},
   "outputs": [],
   "source": [
    "test_two(data, classifier, model_name)"
   ]
  },
  {
   "cell_type": "markdown",
   "metadata": {},
   "source": [
    "## Model Wav2Vec-LR"
   ]
  },
  {
   "cell_type": "code",
   "execution_count": null,
   "metadata": {},
   "outputs": [],
   "source": [
    "model_name = \"wojtek2288/Wav2Vec-LR\"\n",
    "classifier = pipeline(\"audio-classification\", model=model_name)"
   ]
  },
  {
   "cell_type": "markdown",
   "metadata": {},
   "source": [
    "### Testing the model on all possible classes"
   ]
  },
  {
   "cell_type": "code",
   "execution_count": null,
   "metadata": {},
   "outputs": [],
   "source": [
    "test_one(data, classifier, model_name)"
   ]
  },
  {
   "cell_type": "markdown",
   "metadata": {},
   "source": [
    "### Testing the model only on data with labels defined in the task"
   ]
  },
  {
   "cell_type": "code",
   "execution_count": null,
   "metadata": {},
   "outputs": [],
   "source": [
    "test_two(data, classifier, model_name)"
   ]
  },
  {
   "cell_type": "markdown",
   "metadata": {},
   "source": [
    "## Model HUBERT-LR"
   ]
  },
  {
   "cell_type": "code",
   "execution_count": null,
   "metadata": {},
   "outputs": [],
   "source": [
    "model_name = \"wojtek2288/HUBERT-LR\"\n",
    "classifier = pipeline(\"audio-classification\", model=model_name)"
   ]
  },
  {
   "cell_type": "markdown",
   "metadata": {},
   "source": [
    "### Testing the model on all possible classes"
   ]
  },
  {
   "cell_type": "code",
   "execution_count": null,
   "metadata": {},
   "outputs": [],
   "source": [
    "test_one(data, classifier, model_name)"
   ]
  },
  {
   "cell_type": "markdown",
   "metadata": {},
   "source": [
    "### Testing the model only on data with labels defined in the task"
   ]
  },
  {
   "cell_type": "code",
   "execution_count": null,
   "metadata": {},
   "outputs": [],
   "source": [
    "test_two(data, classifier, model_name)"
   ]
  },
  {
   "cell_type": "markdown",
   "metadata": {},
   "source": [
    "## Model Wav2Vec-Unknown"
   ]
  },
  {
   "cell_type": "code",
   "execution_count": null,
   "metadata": {},
   "outputs": [],
   "source": [
    "model_name = \"wojtek2288/Wav2Vec-Unknown\"\n",
    "classifier = pipeline(\"audio-classification\", model=model_name)"
   ]
  },
  {
   "cell_type": "code",
   "execution_count": null,
   "metadata": {},
   "outputs": [],
   "source": [
    "test_one(data, classifier, model_name)"
   ]
  },
  {
   "cell_type": "markdown",
   "metadata": {},
   "source": [
    "## Model HUBERT-Unknown"
   ]
  },
  {
   "cell_type": "code",
   "execution_count": null,
   "metadata": {},
   "outputs": [],
   "source": [
    "model_name = \"wojtek2288/HUBERT-Unknown\"\n",
    "classifier = pipeline(\"audio-classification\", model=model_name)"
   ]
  },
  {
   "cell_type": "code",
   "execution_count": null,
   "metadata": {},
   "outputs": [],
   "source": [
    "test_one(data, classifier, model_name)"
   ]
  }
 ],
 "metadata": {
  "kernelspec": {
   "display_name": "Python 3",
   "language": "python",
   "name": "python3"
  },
  "language_info": {
   "codemirror_mode": {
    "name": "ipython",
    "version": 3
   },
   "file_extension": ".py",
   "mimetype": "text/x-python",
   "name": "python",
   "nbconvert_exporter": "python",
   "pygments_lexer": "ipython3",
   "version": "3.11.7"
  }
 },
 "nbformat": 4,
 "nbformat_minor": 2
}
